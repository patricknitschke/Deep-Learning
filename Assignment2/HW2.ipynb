{
 "cells": [
  {
   "cell_type": "markdown",
   "metadata": {
    "id": "QUc9frYnVBI_"
   },
   "source": [
    "#**HW 2: Optimize and train Deep Models**\n",
    "\n",
    "In this homework, we will explore how to develop a simple Deep Neural Network for a classification problem. We will explore two common libraries: TensorFlow and Keras.\n",
    "Then we will explore how to face a well known problem that is common to encounter during the training phase: the Overfitting.\n",
    "Finally, we will study how to perform a fair model selection.\n",
    "Hint: Before starting the exercise take a look at how Tensorflow and Keras are designed.  https://keras.io/"
   ]
  },
  {
   "cell_type": "markdown",
   "metadata": {
    "id": "e-Nc7mFSVEiU"
   },
   "source": [
    "##Exercise 2.1: Image Classficiation with Tensorflow and Keras\n",
    "\n",
    "In this first exercise we will develop a 3 layers Neural Network to perfrom classification.\n",
    "\n",
    "Let's start importing the libraries we will need and setting a couple of environmental variables.\n"
   ]
  },
  {
   "cell_type": "code",
   "execution_count": 1,
   "metadata": {
    "id": "bWn9FzneVqJo"
   },
   "outputs": [
    {
     "name": "stdout",
     "output_type": "stream",
     "text": [
      "INFO:tensorflow:Enabling eager execution\n",
      "INFO:tensorflow:Enabling v2 tensorshape\n",
      "INFO:tensorflow:Enabling resource variables\n",
      "INFO:tensorflow:Enabling tensor equality\n",
      "INFO:tensorflow:Enabling control flow v2\n",
      "Hello\n"
     ]
    }
   ],
   "source": [
    "import matplotlib as mpl\n",
    "import matplotlib.pyplot as plt\n",
    "import numpy as np\n",
    "import os\n",
    "import pandas as pd\n",
    "import sklearn\n",
    "import sys\n",
    "import tensorflow as tf\n",
    "from tensorflow import keras  # tf.keras\n",
    "import time\n",
    "\n",
    "import logging\n",
    "logging.disable(logging.WARNING)\n",
    "os.environ[\"TF_CPP_MIN_LOG_LEVEL\"] = \"3\" \n",
    "\n",
    "\n",
    "\n",
    "tf.random.set_seed(42)\n",
    "# os.environ['TF_DETERMINISTIC_OPS']='1'\n",
    "print(\"Hello\")"
   ]
  },
  {
   "cell_type": "markdown",
   "metadata": {
    "id": "LT2HMYDEXcx0"
   },
   "source": [
    "### Load Data: IMDB dataset\n",
    "\n",
    "In this HW, we use the IMDB dataset that can be easily downloaded using Keras. The dataset contains 50,000 movie reviews from IMDB, labeled by sentiment (positive/negative). Reviews have been preprocessed, and each review is encoded as a sequence of word indexes. For convenience, the words are indexed by the overall frequency in the dataset, so that for example the integer \"3\" encodes the 3rd most frequent word in the data. For testing purposes, we will only consider the first 10,000  most common words.\n",
    "By default, the load_data method returns a breakdown of the dataset into training and test sets. Both these sets contain 25,000 samples. To also have a validation set, we split the test set in half.\n",
    "\n"
   ]
  },
  {
   "cell_type": "code",
   "execution_count": 3,
   "metadata": {
    "id": "JZv86gBLXj-D"
   },
   "outputs": [
    {
     "name": "stdout",
     "output_type": "stream",
     "text": [
      "done\n"
     ]
    }
   ],
   "source": [
    "num_words = 1000\n",
    "(X_train, y_train), (X_test, y_test) = keras.datasets.imdb.load_data(num_words=num_words)\n",
    "(X_valid, X_test) = X_test[:12500], X_test[12500:]\n",
    "(y_valid, y_test) = y_test[:12500], y_test[12500:]\n",
    "print(\"done\")"
   ]
  },
  {
   "cell_type": "code",
   "execution_count": 5,
   "metadata": {},
   "outputs": [
    {
     "name": "stdout",
     "output_type": "stream",
     "text": [
      "(12500,)\n",
      "(12500,)\n"
     ]
    }
   ],
   "source": [
    "print(X_valid.shape)\n",
    "print(y_valid.shape)"
   ]
  },
  {
   "cell_type": "markdown",
   "metadata": {
    "id": "TEZHVHpuPdQF"
   },
   "source": [
    "In this HW we will consider a Deep Neural Network. The IMDB data consists in reviews, each one composed by a seqeunce of words. In order to encode each review in a single tensor with a fixed number of elements, we will use multi-hot encoding. Multi-hot-encoding our lists means turning them into vectors of 0s and 1s. Concretely, this would mean for instance turning the sequence [3, 5] into a 10,000-dimensional vector that would be all-zeros except for indices 3 and 5, which would be ones. The obtained input representation indicates which words are present (at least one time) in the sentence.\n",
    "\n",
    " "
   ]
  },
  {
   "cell_type": "code",
   "execution_count": 32,
   "metadata": {
    "id": "hxE9DhiFPP0T"
   },
   "outputs": [
    {
     "name": "stdout",
     "output_type": "stream",
     "text": [
      "0\n",
      "1\n",
      "2\n",
      "3\n"
     ]
    }
   ],
   "source": [
    "def multi_hot_encoder(dataset, num_word):\n",
    "    dataset_multi_hot=[]\n",
    "    for sequence in dataset:\n",
    "        index, _ = tf.unique(sequence)\n",
    "        dataset_multi_hot.append(tf.reduce_max(tf.one_hot(index-1, num_word, dtype=tf.int32), axis=0))\n",
    "    dataset_multi_hot = tf.stack(dataset_multi_hot)\n",
    "    return dataset_multi_hot\n",
    "\n",
    "print(0)\n",
    "X_train = multi_hot_encoder(X_train,num_words)\n",
    "print(1)\n",
    "X_test = multi_hot_encoder(X_test,num_words)\n",
    "print(2)\n",
    "X_valid = multi_hot_encoder(X_valid,num_words)\n",
    "print(3)"
   ]
  },
  {
   "cell_type": "code",
   "execution_count": 7,
   "metadata": {},
   "outputs": [
    {
     "name": "stdout",
     "output_type": "stream",
     "text": [
      "tf.Tensor(\n",
      "[[1 1 0 ... 0 0 0]\n",
      " [1 1 0 ... 0 0 0]\n",
      " [1 1 0 ... 0 0 0]\n",
      " ...\n",
      " [1 1 0 ... 0 0 0]\n",
      " [1 1 0 ... 0 0 0]\n",
      " [1 1 0 ... 0 0 0]], shape=(25000, 1000), dtype=int32)\n",
      "tf.Tensor(\n",
      "[[1 1 0 ... 0 0 0]\n",
      " [1 1 0 ... 0 0 0]\n",
      " [1 1 0 ... 0 0 0]\n",
      " ...\n",
      " [1 1 0 ... 0 0 0]\n",
      " [1 1 0 ... 0 0 0]\n",
      " [1 1 0 ... 0 0 0]], shape=(12500, 1000), dtype=int32)\n"
     ]
    }
   ],
   "source": [
    "print(X_train)\n",
    "print(X_test)"
   ]
  },
  {
   "cell_type": "markdown",
   "metadata": {
    "id": "jGUg8TexZMNf"
   },
   "source": [
    "### Define the model:\n",
    "\n",
    "Let's build a Sequential model (keras.models.Sequential) and add four layers to it by calling its add() method:\n",
    "\n",
    "\n",
    "*   a input layer (tf.keras.Input) that is the first layer in your model. With this layer you should specify the input_shape argument, leaving out the batch size: (num_words,);\n",
    "*  a Dense layer (keras.layers.Dense) with 16 neurons, and the \"relu\" activation function;\n",
    "* another Dense layer with 16 neurons, also with the \"relu\" activation function;\n",
    "* a final Dense layer with 1 output neurons, and with the \"sigmoid\" activation (since we considering a binary classification task)."
   ]
  },
  {
   "cell_type": "code",
   "execution_count": 8,
   "metadata": {
    "id": "OaoEISyaZL56"
   },
   "outputs": [],
   "source": [
    "model = keras.models.Sequential()\n",
    "model.add(tf.keras.Input(shape=(num_words,)))\n",
    "model.add(keras.layers.Dense(16, activation=\"relu\"))\n",
    "model.add(keras.layers.Dense(16, activation=\"relu\"))\n",
    "model.add(keras.layers.Dense(1, activation=\"sigmoid\"))\n",
    "\n"
   ]
  },
  {
   "cell_type": "markdown",
   "metadata": {
    "id": "fYfxUOQVZljh"
   },
   "source": [
    "Call the model's summary() method to check if the model has been built correctly. Also, try using keras.utils.plot_model() to save an image of your model's architecture."
   ]
  },
  {
   "cell_type": "code",
   "execution_count": 9,
   "metadata": {
    "id": "IpGkQl5dZoWq"
   },
   "outputs": [
    {
     "name": "stdout",
     "output_type": "stream",
     "text": [
      "Model: \"sequential\"\n",
      "_________________________________________________________________\n",
      "Layer (type)                 Output Shape              Param #   \n",
      "=================================================================\n",
      "dense (Dense)                (None, 16)                16016     \n",
      "_________________________________________________________________\n",
      "dense_1 (Dense)              (None, 16)                272       \n",
      "_________________________________________________________________\n",
      "dense_2 (Dense)              (None, 1)                 17        \n",
      "=================================================================\n",
      "Total params: 16,305\n",
      "Trainable params: 16,305\n",
      "Non-trainable params: 0\n",
      "_________________________________________________________________\n"
     ]
    }
   ],
   "source": [
    "model.summary()"
   ]
  },
  {
   "cell_type": "code",
   "execution_count": 10,
   "metadata": {
    "id": "b1NbkrXRZwOA"
   },
   "outputs": [
    {
     "data": {
      "image/png": "[encoded data removed]",
      "text/plain": [
       "<IPython.core.display.Image object>"
      ]
     },
     "execution_count": 10,
     "metadata": {},
     "output_type": "execute_result"
    }
   ],
   "source": [
    "keras.utils.plot_model(model, \"my_imdb_model.png\", show_shapes=True)"
   ]
  },
  {
   "cell_type": "markdown",
   "metadata": {
    "id": "Mc3xzuA-33WH"
   },
   "source": [
    "As you can see, the first dimension of each layer is not defined (?), indeed this dimension in each layer is variable and depends on the batch size."
   ]
  },
  {
   "cell_type": "markdown",
   "metadata": {
    "id": "6FAjFixuHSA_"
   },
   "source": [
    "Instaed of using *add()* method it is also possibile to define the model using the following syntax"
   ]
  },
  {
   "cell_type": "code",
   "execution_count": 11,
   "metadata": {
    "id": "yOhr57M9GPHy"
   },
   "outputs": [
    {
     "name": "stdout",
     "output_type": "stream",
     "text": [
      "Model: \"sequential_1\"\n",
      "_________________________________________________________________\n",
      "Layer (type)                 Output Shape              Param #   \n",
      "=================================================================\n",
      "dense_3 (Dense)              (None, 16)                16016     \n",
      "_________________________________________________________________\n",
      "dense_4 (Dense)              (None, 16)                272       \n",
      "_________________________________________________________________\n",
      "dense_5 (Dense)              (None, 1)                 17        \n",
      "=================================================================\n",
      "Total params: 16,305\n",
      "Trainable params: 16,305\n",
      "Non-trainable params: 0\n",
      "_________________________________________________________________\n"
     ]
    },
    {
     "data": {
      "image/png": "[encoded data removed]",
      "text/plain": [
       "<IPython.core.display.Image object>"
      ]
     },
     "execution_count": 11,
     "metadata": {},
     "output_type": "execute_result"
    }
   ],
   "source": [
    "model = keras.models.Sequential([\n",
    "    tf.keras.Input(shape=(num_words,)),\n",
    "    keras.layers.Dense(16, activation=\"relu\"),\n",
    "    keras.layers.Dense(16, activation=\"relu\"),\n",
    "    keras.layers.Dense(1, activation=\"sigmoid\")\n",
    "])\n",
    "model.summary()\n",
    "keras.utils.plot_model(model, \"my_imdb_model.png\", show_shapes=True)"
   ]
  },
  {
   "cell_type": "markdown",
   "metadata": {
    "id": "2ySdJmzxaSuz"
   },
   "source": [
    "### Optimize the model:\n",
    "\n",
    "After the model has been created, you must call its compile() method to specify the loss function and the optimizer to use.\n",
    "\n",
    "Since the model performs a binary classification task, we use the bynary cross-entropy as loss. As optimizer we use Adam.\n",
    "\n",
    "Moreover, you can optionally specify a list of additional metrics that should be measured during training. In this case we specify metrics=[\"accuracy\"]."
   ]
  },
  {
   "cell_type": "code",
   "execution_count": 12,
   "metadata": {
    "id": "x3bbsY3uaeh5"
   },
   "outputs": [],
   "source": [
    "model.compile(loss=\"binary_crossentropy\",\n",
    "              optimizer=keras.optimizers.Adam(learning_rate=1e-4),\n",
    "              metrics=[\"accuracy\"])"
   ]
  },
  {
   "cell_type": "markdown",
   "metadata": {
    "id": "NB9SV0MpaeTg"
   },
   "source": [
    "Now our model is ready to be trained. Call its fit() method, passing to it the input features (X_train) and the target classes (y_train). Set the number of epochs to 20. \n",
    "In order to validate our model we will also pass the validation data by setting validation_data=(X_valid, y_valid). Keras will compute the loss and the additional metrics (the accuracy in this case) on the validation set at the end of each epoch. If the loss on the training set is much lower than the one on the validation set, your model is probably overfitting the training set. Note: the fit() method will return a History object containing training stats."
   ]
  },
  {
   "cell_type": "code",
   "execution_count": 13,
   "metadata": {
    "id": "5whx-LU3aoKn"
   },
   "outputs": [
    {
     "name": "stdout",
     "output_type": "stream",
     "text": [
      "Epoch 1/20\n",
      "782/782 [==============================] - 3s 3ms/step - loss: 0.6691 - accuracy: 0.5917 - val_loss: 0.5086 - val_accuracy: 0.7899\n",
      "Epoch 2/20\n",
      "782/782 [==============================] - 2s 3ms/step - loss: 0.4609 - accuracy: 0.8105 - val_loss: 0.3856 - val_accuracy: 0.8406\n",
      "Epoch 3/20\n",
      "782/782 [==============================] - 2s 3ms/step - loss: 0.3556 - accuracy: 0.8580 - val_loss: 0.3534 - val_accuracy: 0.8515\n",
      "Epoch 4/20\n",
      "782/782 [==============================] - 2s 3ms/step - loss: 0.3298 - accuracy: 0.8647 - val_loss: 0.3407 - val_accuracy: 0.8543\n",
      "Epoch 5/20\n",
      "782/782 [==============================] - 2s 3ms/step - loss: 0.3148 - accuracy: 0.8714 - val_loss: 0.3377 - val_accuracy: 0.8555\n",
      "Epoch 6/20\n",
      "782/782 [==============================] - 2s 3ms/step - loss: 0.3055 - accuracy: 0.8712 - val_loss: 0.3344 - val_accuracy: 0.8565\n",
      "Epoch 7/20\n",
      "782/782 [==============================] - 2s 3ms/step - loss: 0.2989 - accuracy: 0.8771 - val_loss: 0.3344 - val_accuracy: 0.8562\n",
      "Epoch 8/20\n",
      "782/782 [==============================] - 2s 2ms/step - loss: 0.3030 - accuracy: 0.8742 - val_loss: 0.3344 - val_accuracy: 0.8557\n",
      "Epoch 9/20\n",
      "782/782 [==============================] - 2s 2ms/step - loss: 0.2970 - accuracy: 0.8784 - val_loss: 0.3352 - val_accuracy: 0.8549\n",
      "Epoch 10/20\n",
      "782/782 [==============================] - 2s 3ms/step - loss: 0.2928 - accuracy: 0.8781 - val_loss: 0.3355 - val_accuracy: 0.8552\n",
      "Epoch 11/20\n",
      "782/782 [==============================] - 2s 3ms/step - loss: 0.2966 - accuracy: 0.8797 - val_loss: 0.3366 - val_accuracy: 0.8539\n",
      "Epoch 12/20\n",
      "782/782 [==============================] - 2s 3ms/step - loss: 0.2865 - accuracy: 0.8849 - val_loss: 0.3373 - val_accuracy: 0.8549\n",
      "Epoch 13/20\n",
      "782/782 [==============================] - 2s 2ms/step - loss: 0.2954 - accuracy: 0.8803 - val_loss: 0.3393 - val_accuracy: 0.8543\n",
      "Epoch 14/20\n",
      "782/782 [==============================] - 2s 3ms/step - loss: 0.2856 - accuracy: 0.8837 - val_loss: 0.3387 - val_accuracy: 0.8536\n",
      "Epoch 15/20\n",
      "782/782 [==============================] - 2s 3ms/step - loss: 0.2884 - accuracy: 0.8822 - val_loss: 0.3398 - val_accuracy: 0.8538\n",
      "Epoch 16/20\n",
      "782/782 [==============================] - 2s 3ms/step - loss: 0.2878 - accuracy: 0.8806 - val_loss: 0.3405 - val_accuracy: 0.8534\n",
      "Epoch 17/20\n",
      "782/782 [==============================] - 2s 3ms/step - loss: 0.2871 - accuracy: 0.8821 - val_loss: 0.3418 - val_accuracy: 0.8546\n",
      "Epoch 18/20\n",
      "782/782 [==============================] - 3s 3ms/step - loss: 0.2822 - accuracy: 0.8861 - val_loss: 0.3427 - val_accuracy: 0.8542\n",
      "Epoch 19/20\n",
      "782/782 [==============================] - 3s 3ms/step - loss: 0.2847 - accuracy: 0.8863 - val_loss: 0.3433 - val_accuracy: 0.8526\n",
      "Epoch 20/20\n",
      "782/782 [==============================] - 2s 2ms/step - loss: 0.2792 - accuracy: 0.8863 - val_loss: 0.3445 - val_accuracy: 0.8531\n"
     ]
    }
   ],
   "source": [
    "history = model.fit(X_train, y_train, epochs=20,\n",
    "                    validation_data=(X_valid, y_valid))"
   ]
  },
  {
   "cell_type": "markdown",
   "metadata": {
    "id": "EPxiw8iCADr-"
   },
   "source": [
    "Let's plot the loss and the accuracy trends on both training and validation sets. We define the \"plot_learning_acc_and_loss\" function because we will reuse it in the next steps."
   ]
  },
  {
   "cell_type": "code",
   "execution_count": 14,
   "metadata": {
    "id": "AJg-F7mUa7st"
   },
   "outputs": [
    {
     "data": {
      "image/png": "[encoded data removed]",
      "text/plain": [
       "<Figure size 576x360 with 1 Axes>"
      ]
     },
     "metadata": {
      "needs_background": "light"
     },
     "output_type": "display_data"
    }
   ],
   "source": [
    "def plot_learning_acc_and_loss(history):\n",
    "    pd.DataFrame(history.history).plot(figsize=(8, 5))\n",
    "    plt.grid(True)\n",
    "    plt.show()\n",
    "plot_learning_acc_and_loss(history)"
   ]
  },
  {
   "cell_type": "markdown",
   "metadata": {
    "id": "9O3-sLmxansJ"
   },
   "source": [
    "### [TO COMPLETE] Exercise 2.1: Evaluate the model:\n",
    "\n",
    "Now, our model has been optimized on the training set, and as you can see the performance on the validation set in quite similar (so it does not overfit the training data). Let's now evaluate the performance of our model using the test set."
   ]
  },
  {
   "cell_type": "code",
   "execution_count": 15,
   "metadata": {
    "id": "q-ZvJEcObdyB"
   },
   "outputs": [
    {
     "name": "stdout",
     "output_type": "stream",
     "text": [
      "391/391 [==============================] - 0s 1ms/step - loss: 0.3227 - accuracy: 0.8662\n"
     ]
    },
    {
     "data": {
      "text/plain": [
       "[0.32265692949295044, 0.8662400245666504]"
      ]
     },
     "execution_count": 15,
     "metadata": {},
     "output_type": "execute_result"
    }
   ],
   "source": [
    "model.evaluate(X_test, y_test)"
   ]
  },
  {
   "cell_type": "markdown",
   "metadata": {},
   "source": [
    "## Answer 2.1\n",
    "#### Test & Validation sets\n",
    "It is important to use a test and validation dataset to ensure that your model performs well on data not directly used\n",
    "to train your model (training data). This is because we can easily obtain 100% accuracy on the training data due to overfitting but this does not mean the model generalises well on 'unseen' data or data from real world applications, where it actually matters. To ensure obtain a model generalises well, we have a validation data that we use to actively build/tune model parameters to prevent overfitting. Then, after we are pleased with our design choices, we test the model finally on the test dataset to assess the model on 'pure' unseen' data.\n",
    "\n",
    "#### Why test and not validation set?\n",
    "The point of the test set is to measure the performance of our model on unseen data. If we use the validation set \n",
    "to measure the performance, it would not be representative of how the model will perform on new data because we train \n",
    "our model to acheive the best performance on the validation set (by selecting hyperparameters - to prevent \n",
    "overfitting, achieve high accuracy, etc...). \n",
    "\n",
    "However, since the test set has not at all been used during the training process, it is 'fair' to use this because \n",
    "the performance we achieve is the ability of the model to classify data that is new, and not data that has been \n",
    "used to build the model."
   ]
  },
  {
   "cell_type": "markdown",
   "metadata": {
    "id": "KTSxlnwrII-n"
   },
   "source": [
    "[TO COMPLETE] Explain why it is important to use test and validation, and why it is important to evaluate the model on the test set instead of the validation set. Finally, explain which is the usefulness of the validation set. Insert the discussion in this cell."
   ]
  },
  {
   "cell_type": "markdown",
   "metadata": {
    "id": "aeGlzKe864Gq"
   },
   "source": [
    "## [TO COMPLETE] Exercise 2.2: Overfiting\n",
    "\n",
    "A common problem that occurs when you train a deep neural network is overfittig. Overfitting occurs when you achieve a good fit of your model on the training data, while it does not generalize well on new, unseen data. In other words, the model learned patterns specific to the training data, which are irrelevant in other data.\n",
    "As we have seen in the previous exercise, our model does not overfit the training data. In this exercise, we try to modify the training parameters in order to have a model that overfits.\n",
    "Overfitting can have many causes and usually is a combination of some of them, for instance: too many parameters/ layers, too few training samples, wrong learning rate (usualy too high), etc..\n",
    "\n",
    "[TO COMPLETE] In the next cell define a new model (similar to the previuos one) that overfits the training data; then plot the trend of the loss in training and validation set."
   ]
  },
  {
   "cell_type": "code",
   "execution_count": 16,
   "metadata": {
    "id": "T2B2DFEC8f88"
   },
   "outputs": [
    {
     "name": "stdout",
     "output_type": "stream",
     "text": [
      "Epoch 1/20\n",
      "782/782 [==============================] - 3s 3ms/step - loss: 0.4576 - accuracy: 0.7716 - val_loss: 0.3412 - val_accuracy: 0.8518\n",
      "Epoch 2/20\n",
      "782/782 [==============================] - 3s 4ms/step - loss: 0.3165 - accuracy: 0.8638 - val_loss: 0.3361 - val_accuracy: 0.8512\n",
      "Epoch 3/20\n",
      "782/782 [==============================] - 3s 4ms/step - loss: 0.2726 - accuracy: 0.8861 - val_loss: 0.3468 - val_accuracy: 0.8506\n",
      "Epoch 4/20\n",
      "782/782 [==============================] - 2s 3ms/step - loss: 0.2408 - accuracy: 0.8992 - val_loss: 0.3824 - val_accuracy: 0.8462\n",
      "Epoch 5/20\n",
      "782/782 [==============================] - 2s 2ms/step - loss: 0.1856 - accuracy: 0.9265 - val_loss: 0.4330 - val_accuracy: 0.8368\n",
      "Epoch 6/20\n",
      "782/782 [==============================] - 2s 2ms/step - loss: 0.1334 - accuracy: 0.9519 - val_loss: 0.4846 - val_accuracy: 0.8348\n",
      "Epoch 7/20\n",
      "782/782 [==============================] - 2s 2ms/step - loss: 0.0886 - accuracy: 0.9691 - val_loss: 0.6102 - val_accuracy: 0.8311\n",
      "Epoch 8/20\n",
      "782/782 [==============================] - 2s 2ms/step - loss: 0.0619 - accuracy: 0.9794 - val_loss: 0.7013 - val_accuracy: 0.8262\n",
      "Epoch 9/20\n",
      "782/782 [==============================] - 2s 2ms/step - loss: 0.0442 - accuracy: 0.9853 - val_loss: 0.8465 - val_accuracy: 0.8206\n",
      "Epoch 10/20\n",
      "782/782 [==============================] - 2s 2ms/step - loss: 0.0372 - accuracy: 0.9867 - val_loss: 0.9997 - val_accuracy: 0.8252\n",
      "Epoch 11/20\n",
      "782/782 [==============================] - 2s 2ms/step - loss: 0.0233 - accuracy: 0.9922 - val_loss: 0.9952 - val_accuracy: 0.8270\n",
      "Epoch 12/20\n",
      "782/782 [==============================] - 2s 2ms/step - loss: 0.0258 - accuracy: 0.9913 - val_loss: 1.1244 - val_accuracy: 0.8249\n",
      "Epoch 13/20\n",
      "782/782 [==============================] - 2s 2ms/step - loss: 0.0289 - accuracy: 0.9906 - val_loss: 1.0962 - val_accuracy: 0.8230\n",
      "Epoch 14/20\n",
      "782/782 [==============================] - 2s 2ms/step - loss: 0.0205 - accuracy: 0.9934 - val_loss: 1.3120 - val_accuracy: 0.8242\n",
      "Epoch 15/20\n",
      "782/782 [==============================] - 2s 2ms/step - loss: 0.0134 - accuracy: 0.9962 - val_loss: 1.3111 - val_accuracy: 0.8211\n",
      "Epoch 16/20\n",
      "782/782 [==============================] - 2s 2ms/step - loss: 0.0244 - accuracy: 0.9913 - val_loss: 1.3091 - val_accuracy: 0.8183\n",
      "Epoch 17/20\n",
      "782/782 [==============================] - 2s 2ms/step - loss: 0.0241 - accuracy: 0.9920 - val_loss: 1.3090 - val_accuracy: 0.8216\n",
      "Epoch 18/20\n",
      "782/782 [==============================] - 2s 2ms/step - loss: 0.0128 - accuracy: 0.9954 - val_loss: 1.3509 - val_accuracy: 0.8208\n",
      "Epoch 19/20\n",
      "782/782 [==============================] - 2s 2ms/step - loss: 0.0070 - accuracy: 0.9979 - val_loss: 1.4773 - val_accuracy: 0.8191\n",
      "Epoch 20/20\n",
      "782/782 [==============================] - 2s 2ms/step - loss: 0.0233 - accuracy: 0.9920 - val_loss: 1.2795 - val_accuracy: 0.8182\n",
      "Model Evaluation\n",
      "391/391 [==============================] - 0s 1ms/step - loss: 1.1944 - accuracy: 0.8254\n"
     ]
    },
    {
     "data": {
      "text/plain": [
       "[1.194396734237671, 0.8253600001335144]"
      ]
     },
     "execution_count": 16,
     "metadata": {},
     "output_type": "execute_result"
    }
   ],
   "source": [
    "model = keras.models.Sequential()\n",
    "#[TO COMPLETE] modify the previuos model in order to obtain a new model that overfit the training data\n",
    "\n",
    "model.add(tf.keras.Input(shape=(num_words,)))\n",
    "model.add(keras.layers.Dense(32, activation=\"relu\"))\n",
    "model.add(keras.layers.Dense(32, activation=\"relu\"))\n",
    "model.add(keras.layers.Dense(16, activation=\"relu\"))\n",
    "model.add(keras.layers.Dense(1, activation=\"sigmoid\"))\n",
    "\n",
    "model.compile(loss=\"binary_crossentropy\",\n",
    "              optimizer=keras.optimizers.Adam(learning_rate=1e-3), #[TO COMPLETE] learning rate\n",
    "              metrics=[\"accuracy\"])\n",
    "\n",
    "history = model.fit(X_train, y_train, epochs=20, #[TO COMPLETE] epochs\n",
    "                    validation_data=(X_valid, y_valid))\n",
    "\n",
    "print(\"Model Evaluation\")\n",
    "model.evaluate(X_test, y_test)"
   ]
  },
  {
   "cell_type": "markdown",
   "metadata": {
    "id": "MS0fujEqh_m3"
   },
   "source": [
    "Define the plot_learning_curves function that plots inly the losses (not the accuracy)."
   ]
  },
  {
   "cell_type": "code",
   "execution_count": 17,
   "metadata": {
    "id": "q5EsklC0DZYH"
   },
   "outputs": [
    {
     "data": {
      "image/png": "[encoded data removed]",
      "text/plain": [
       "<Figure size 576x360 with 1 Axes>"
      ]
     },
     "metadata": {
      "needs_background": "light"
     },
     "output_type": "display_data"
    }
   ],
   "source": [
    "def plot_learning_curves(history):\n",
    "    plt.figure(figsize=(8, 5))\n",
    "    plt.plot(history.epoch,history.history['loss'], label='train loss')\n",
    "    plt.plot(history.epoch,history.history['val_loss'], label='valid loss')\n",
    "    plt.legend()\n",
    "    plt.title('loss')\n",
    "    plt.grid(True)\n",
    "    plt.show()\n",
    "plot_learning_curves(history)"
   ]
  },
  {
   "cell_type": "markdown",
   "metadata": {
    "id": "OW4Kf4fgDfOs"
   },
   "source": [
    "### [TO COMPLETE] L1 norm\n",
    "\n",
    "One possible way to solve the overitting issue is by using regularization methods. The two most common regularization methods in Deep Learning are the L1-norm regularization and the L2-norm regularization. Both These techniques are based on limiting the capacity of models, by adding a parameter norm penalty to the objective function $\\mathcal{J}$:\n",
    "$$\n",
    "\\hat{\\mathcal{J}}(\\theta,\\mathbf{X},\\mathbf{y}) = \\mathcal{J}(\\theta,\\mathbf{X},\\mathbf{y}) + \\alpha \\Omega(\\theta)\n",
    "$$\n",
    "where $\\alpha$ is a hyperparameter that weighs the relative contribution of the norm penalty $\\Omega$.\n",
    "Lets start by considering the L1-norm regularization where the regularization term is defined as:\n",
    "$$\n",
    " \\Omega(\\theta)=||\\mathbf{W}||_1=\\sum_i |\\mathbf{w}|\n",
    "$$\n",
    "Let's find the values for the $\\alpha$ parameters that allow to remove the overfitting effect."
   ]
  },
  {
   "cell_type": "code",
   "execution_count": 18,
   "metadata": {
    "id": "QzD8520dDgw3"
   },
   "outputs": [
    {
     "name": "stdout",
     "output_type": "stream",
     "text": [
      "Epoch 1/20\n",
      "782/782 [==============================] - 2s 2ms/step - loss: 1.0392 - accuracy: 0.7647 - val_loss: 0.5557 - val_accuracy: 0.8477\n",
      "Epoch 2/20\n",
      "782/782 [==============================] - 2s 3ms/step - loss: 0.5419 - accuracy: 0.8467 - val_loss: 0.4997 - val_accuracy: 0.8474\n",
      "Epoch 3/20\n",
      "782/782 [==============================] - 2s 2ms/step - loss: 0.4748 - accuracy: 0.8632 - val_loss: 0.4720 - val_accuracy: 0.8472\n",
      "Epoch 4/20\n",
      "782/782 [==============================] - 2s 3ms/step - loss: 0.4449 - accuracy: 0.8591 - val_loss: 0.4643 - val_accuracy: 0.8443\n",
      "Epoch 5/20\n",
      "782/782 [==============================] - 2s 3ms/step - loss: 0.4264 - accuracy: 0.8645 - val_loss: 0.4450 - val_accuracy: 0.8479\n",
      "Epoch 6/20\n",
      "782/782 [==============================] - 2s 3ms/step - loss: 0.4153 - accuracy: 0.8655 - val_loss: 0.4279 - val_accuracy: 0.8550\n",
      "Epoch 7/20\n",
      "782/782 [==============================] - 3s 4ms/step - loss: 0.4025 - accuracy: 0.8693 - val_loss: 0.4245 - val_accuracy: 0.8530\n",
      "Epoch 8/20\n",
      "782/782 [==============================] - 3s 4ms/step - loss: 0.4074 - accuracy: 0.8653 - val_loss: 0.4212 - val_accuracy: 0.8527\n",
      "Epoch 9/20\n",
      "782/782 [==============================] - 2s 3ms/step - loss: 0.3963 - accuracy: 0.8703 - val_loss: 0.4189 - val_accuracy: 0.8541\n",
      "Epoch 10/20\n",
      "782/782 [==============================] - 2s 3ms/step - loss: 0.3931 - accuracy: 0.8685 - val_loss: 0.4196 - val_accuracy: 0.8549\n",
      "Epoch 11/20\n",
      "782/782 [==============================] - 2s 2ms/step - loss: 0.3946 - accuracy: 0.8683 - val_loss: 0.4193 - val_accuracy: 0.8522\n",
      "Epoch 12/20\n",
      "782/782 [==============================] - 3s 3ms/step - loss: 0.3839 - accuracy: 0.8731 - val_loss: 0.4174 - val_accuracy: 0.8519\n",
      "Epoch 13/20\n",
      "782/782 [==============================] - 3s 4ms/step - loss: 0.3927 - accuracy: 0.8684 - val_loss: 0.4127 - val_accuracy: 0.8538\n",
      "Epoch 14/20\n",
      "782/782 [==============================] - 3s 3ms/step - loss: 0.3835 - accuracy: 0.8706 - val_loss: 0.4175 - val_accuracy: 0.8485\n",
      "Epoch 15/20\n",
      "782/782 [==============================] - 3s 4ms/step - loss: 0.3876 - accuracy: 0.8691 - val_loss: 0.4085 - val_accuracy: 0.8534\n",
      "Epoch 16/20\n",
      "782/782 [==============================] - 2s 3ms/step - loss: 0.3853 - accuracy: 0.8683 - val_loss: 0.4092 - val_accuracy: 0.8526\n",
      "Epoch 17/20\n",
      "782/782 [==============================] - 2s 3ms/step - loss: 0.3868 - accuracy: 0.8666 - val_loss: 0.4095 - val_accuracy: 0.8539\n",
      "Epoch 18/20\n",
      "782/782 [==============================] - 2s 3ms/step - loss: 0.3848 - accuracy: 0.8661 - val_loss: 0.4091 - val_accuracy: 0.8526\n",
      "Epoch 19/20\n",
      "782/782 [==============================] - 2s 3ms/step - loss: 0.3864 - accuracy: 0.8680 - val_loss: 0.4052 - val_accuracy: 0.8560\n",
      "Epoch 20/20\n",
      "782/782 [==============================] - 2s 3ms/step - loss: 0.3823 - accuracy: 0.8692 - val_loss: 0.4125 - val_accuracy: 0.8503\n"
     ]
    }
   ],
   "source": [
    "#In Keras is neccesary to add the regularizer by using the attribute kernel_regularizer\n",
    "#to each layer whose weights will be considered in the Omega function.\n",
    "#is it also possibile to consider the bias by using the attribute bias_regularizer \n",
    "#tf.keras.regularizers.l1(alpha) perfroms the L1-norm regularization\n",
    "\n",
    "#[TO COMPLETE] copy the model that you previously defined that overfits the \n",
    "#trainnig data, and add the L1-norm regularization. Use a proper value for the\n",
    "#alpha hyper-parameter, that prevents the model from overfitting. The results  \n",
    "#reached by the model in terms of loss and accuracy (in all data sets) should be\n",
    "#comparable with the ones obtained by the initial model defined in Exercise 2.1 \n",
    "\n",
    "#In general, a layer that exploits L1-norm regularization is defined as follows:\n",
    "\n",
    "#model.add(keras.layers.Dense(units=[TO COMPLETE], activation=[TO COMPLETE], kernel_regularizer=tf.keras.regularizers.l1([TO COMPLETE]))) \n",
    "\n",
    "model = keras.models.Sequential()\n",
    "#[TO COMPLETE]\n",
    "alpha_reg =  1e-3\n",
    "model.add(tf.keras.Input(shape=(num_words,)))\n",
    "model.add(keras.layers.Dense(32, activation=\"relu\", kernel_regularizer=tf.keras.regularizers.l1(alpha_reg)))\n",
    "model.add(keras.layers.Dense(32, activation=\"relu\", kernel_regularizer=tf.keras.regularizers.l1(alpha_reg)))\n",
    "model.add(keras.layers.Dense(16, activation=\"relu\", kernel_regularizer=tf.keras.regularizers.l1(alpha_reg)))\n",
    "model.add(keras.layers.Dense(1, activation=\"sigmoid\", kernel_regularizer=tf.keras.regularizers.l1(alpha_reg)))\n",
    "\n",
    "model.compile(loss=\"binary_crossentropy\",\n",
    "              optimizer=keras.optimizers.Adam(learning_rate=1e-3),#[TO COMPLETE] learning rate\n",
    "              metrics=[\"accuracy\"])\n",
    "\n",
    "history = model.fit(X_train, y_train, epochs=20,#[TO COMPLETE] epochs\n",
    "                    validation_data=(X_valid, y_valid))\n",
    "\n",
    "\n"
   ]
  },
  {
   "cell_type": "code",
   "execution_count": 19,
   "metadata": {},
   "outputs": [
    {
     "name": "stdout",
     "output_type": "stream",
     "text": [
      "Model Evaluation\n",
      "391/391 [==============================] - 1s 1ms/step - loss: 0.3936 - accuracy: 0.8624\n"
     ]
    },
    {
     "data": {
      "text/plain": [
       "[0.39362362027168274, 0.8623999953269958]"
      ]
     },
     "execution_count": 19,
     "metadata": {},
     "output_type": "execute_result"
    }
   ],
   "source": [
    "print(\"Model Evaluation\")\n",
    "model.evaluate(X_test, y_test)"
   ]
  },
  {
   "cell_type": "code",
   "execution_count": 20,
   "metadata": {},
   "outputs": [
    {
     "data": {
      "image/png": "[encoded data removed]",
      "text/plain": [
       "<Figure size 576x360 with 1 Axes>"
      ]
     },
     "metadata": {
      "needs_background": "light"
     },
     "output_type": "display_data"
    }
   ],
   "source": [
    "plot_learning_curves(history)"
   ]
  },
  {
   "cell_type": "markdown",
   "metadata": {
    "id": "CgnCGYUvDqbC"
   },
   "source": [
    "### [TO COMPLETE] L2-norm\n",
    "\n",
    "L2-norm regularization is also known as weight decay. This strategy drives the weights closer to the origin by adding the regularization term omega which is defined as:\n",
    "$$\n",
    " \\Omega(\\theta)=\\frac{1}{2}||\\mathbf{W}||_2^2\n",
    "$$\n",
    "\n",
    "Let's find the values for the $\\alpha$ parameters that allow removing remove the overfitting effect with L2-norm."
   ]
  },
  {
   "cell_type": "code",
   "execution_count": 21,
   "metadata": {
    "id": "qqNhu350DtJo"
   },
   "outputs": [
    {
     "name": "stdout",
     "output_type": "stream",
     "text": [
      "Epoch 1/20\n",
      "782/782 [==============================] - 3s 3ms/step - loss: 0.9362 - accuracy: 0.7716 - val_loss: 0.5131 - val_accuracy: 0.8460\n",
      "Epoch 2/20\n",
      "782/782 [==============================] - 2s 3ms/step - loss: 0.5060 - accuracy: 0.8443 - val_loss: 0.4881 - val_accuracy: 0.8448\n",
      "Epoch 3/20\n",
      "782/782 [==============================] - 2s 3ms/step - loss: 0.4732 - accuracy: 0.8586 - val_loss: 0.4794 - val_accuracy: 0.8452\n",
      "Epoch 4/20\n",
      "782/782 [==============================] - 2s 3ms/step - loss: 0.4670 - accuracy: 0.8551 - val_loss: 0.4866 - val_accuracy: 0.8386\n",
      "Epoch 5/20\n",
      "782/782 [==============================] - 3s 4ms/step - loss: 0.4596 - accuracy: 0.8573 - val_loss: 0.4913 - val_accuracy: 0.8313\n",
      "Epoch 6/20\n",
      "782/782 [==============================] - 3s 4ms/step - loss: 0.4572 - accuracy: 0.8570 - val_loss: 0.4664 - val_accuracy: 0.8498\n",
      "Epoch 7/20\n",
      "782/782 [==============================] - 3s 3ms/step - loss: 0.4484 - accuracy: 0.8609 - val_loss: 0.4627 - val_accuracy: 0.8520\n",
      "Epoch 8/20\n",
      "782/782 [==============================] - 3s 3ms/step - loss: 0.4534 - accuracy: 0.8582 - val_loss: 0.4635 - val_accuracy: 0.8473\n",
      "Epoch 9/20\n",
      "782/782 [==============================] - 3s 4ms/step - loss: 0.4455 - accuracy: 0.8627 - val_loss: 0.4580 - val_accuracy: 0.8523\n",
      "Epoch 10/20\n",
      "782/782 [==============================] - 3s 4ms/step - loss: 0.4422 - accuracy: 0.8619 - val_loss: 0.4552 - val_accuracy: 0.8518\n",
      "Epoch 11/20\n",
      "782/782 [==============================] - 3s 4ms/step - loss: 0.4433 - accuracy: 0.8619 - val_loss: 0.4700 - val_accuracy: 0.8436\n",
      "Epoch 12/20\n",
      "782/782 [==============================] - 3s 4ms/step - loss: 0.4354 - accuracy: 0.8655 - val_loss: 0.4543 - val_accuracy: 0.8534\n",
      "Epoch 13/20\n",
      "782/782 [==============================] - 4s 5ms/step - loss: 0.4426 - accuracy: 0.8615 - val_loss: 0.4540 - val_accuracy: 0.8523\n",
      "Epoch 14/20\n",
      "782/782 [==============================] - 3s 4ms/step - loss: 0.4347 - accuracy: 0.8660 - val_loss: 0.4590 - val_accuracy: 0.8474\n",
      "Epoch 15/20\n",
      "782/782 [==============================] - 4s 5ms/step - loss: 0.4363 - accuracy: 0.8653 - val_loss: 0.4508 - val_accuracy: 0.8528\n",
      "Epoch 16/20\n",
      "782/782 [==============================] - 3s 4ms/step - loss: 0.4348 - accuracy: 0.8627 - val_loss: 0.4528 - val_accuracy: 0.8519\n",
      "Epoch 17/20\n",
      "782/782 [==============================] - 3s 4ms/step - loss: 0.4369 - accuracy: 0.8629 - val_loss: 0.4508 - val_accuracy: 0.8551\n",
      "Epoch 18/20\n",
      "782/782 [==============================] - 2s 2ms/step - loss: 0.4359 - accuracy: 0.8618 - val_loss: 0.4556 - val_accuracy: 0.8507\n",
      "Epoch 19/20\n",
      "782/782 [==============================] - 2s 2ms/step - loss: 0.4372 - accuracy: 0.8630 - val_loss: 0.4478 - val_accuracy: 0.8558\n",
      "Epoch 20/20\n",
      "782/782 [==============================] - 2s 3ms/step - loss: 0.4325 - accuracy: 0.8651 - val_loss: 0.4514 - val_accuracy: 0.8527\n",
      "Model Evaluation\n",
      "391/391 [==============================] - 1s 2ms/step - loss: 0.4371 - accuracy: 0.8618\n"
     ]
    },
    {
     "data": {
      "image/png": "[encoded data removed]",
      "text/plain": [
       "<Figure size 576x360 with 1 Axes>"
      ]
     },
     "metadata": {
      "needs_background": "light"
     },
     "output_type": "display_data"
    }
   ],
   "source": [
    "#[TO COMPLETE] insert the model that you previously defined that overfit the \n",
    "#trainig data, and add the L2-norm regularization. Use proper values for the\n",
    "#alpha hyper-parameters, that prevents the model from overfitting. The results  \n",
    "#reached by the model in terms of loss and accuracy (in all data sets) should be\n",
    "#comparable with the ones obtained by the initial model defined in Exercise 2.1\n",
    "\n",
    "#In general, a layer that exploits L2-norm regularization is defined as follow:\n",
    "\n",
    "#model.add(keras.layers.Dense(units=[TO COMPLETE], activation=[TO COMPLETE],kernel_regularizer=tf.keras.regularizers.l2([TO COMPLETE]))) \n",
    "\n",
    "model = keras.models.Sequential()\n",
    "#[TO COMPLETE]\n",
    "alpha_reg =  1e-2\n",
    "model.add(tf.keras.Input(shape=(num_words,)))\n",
    "model.add(keras.layers.Dense(32, activation=\"relu\", kernel_regularizer=tf.keras.regularizers.l2(alpha_reg)))\n",
    "model.add(keras.layers.Dense(32, activation=\"relu\", kernel_regularizer=tf.keras.regularizers.l2(alpha_reg)))\n",
    "model.add(keras.layers.Dense(16, activation=\"relu\", kernel_regularizer=tf.keras.regularizers.l2(alpha_reg)))\n",
    "model.add(keras.layers.Dense(1, activation=\"sigmoid\", kernel_regularizer=tf.keras.regularizers.l2(alpha_reg)))\n",
    "\n",
    "model.compile(loss=\"binary_crossentropy\",\n",
    "              optimizer=keras.optimizers.Adam(learning_rate=1e-3),#[TO COMPLETE] learning rate\n",
    "              metrics=[\"accuracy\"])\n",
    "\n",
    "history = model.fit(X_train, y_train, epochs=20,#[TO COMPLETE] epochs\n",
    "                    validation_data=(X_valid, y_valid))\n",
    "\n",
    "print(\"Model Evaluation\")\n",
    "model.evaluate(X_test, y_test)\n",
    "plot_learning_curves(history)"
   ]
  },
  {
   "cell_type": "markdown",
   "metadata": {
    "id": "xvyKPb4DD25G"
   },
   "source": [
    "###[TO COMPLETE] Early stopping\n",
    "\n",
    "Early Stopping is a form of regularization used to avoid overfitting. It is designed to monitor the generalization error of one model and stop training when generalization error begins to degrade. In order to evaluate the generalization error, early stopping requires that a validation dataset is evaluated during training. Then, when the validation error does not improve for a specific number of epochs (patience hyper-parameter), it stops the training phase."
   ]
  },
  {
   "cell_type": "code",
   "execution_count": 22,
   "metadata": {
    "id": "MqNOOZ11D7cq"
   },
   "outputs": [
    {
     "name": "stdout",
     "output_type": "stream",
     "text": [
      "Epoch 1/20\n",
      "782/782 [==============================] - 3s 4ms/step - loss: 0.4494 - accuracy: 0.7803 - val_loss: 0.3410 - val_accuracy: 0.8506\n",
      "Epoch 2/20\n",
      "782/782 [==============================] - 3s 3ms/step - loss: 0.3170 - accuracy: 0.8636 - val_loss: 0.3396 - val_accuracy: 0.8521\n",
      "Epoch 3/20\n",
      "782/782 [==============================] - 3s 4ms/step - loss: 0.2770 - accuracy: 0.8823 - val_loss: 0.3656 - val_accuracy: 0.8410\n",
      "Epoch 4/20\n",
      "782/782 [==============================] - 3s 4ms/step - loss: 0.2426 - accuracy: 0.9011 - val_loss: 0.3594 - val_accuracy: 0.8453\n",
      "Model Evaluation\n",
      "391/391 [==============================] - 1s 2ms/step - loss: 0.3224 - accuracy: 0.8626\n"
     ]
    },
    {
     "data": {
      "image/png": "[encoded data removed]",
      "text/plain": [
       "<Figure size 576x360 with 1 Axes>"
      ]
     },
     "metadata": {
      "needs_background": "light"
     },
     "output_type": "display_data"
    }
   ],
   "source": [
    "#[TO COMPLETE] insert the model that you previously defined that overfit the \n",
    "#trainnig data\n",
    "model = keras.models.Sequential()\n",
    "model.add(tf.keras.Input(shape=(num_words,)))\n",
    "model.add(keras.layers.Dense(32, activation=\"relu\"))\n",
    "model.add(keras.layers.Dense(32, activation=\"relu\"))\n",
    "model.add(keras.layers.Dense(16, activation=\"relu\"))\n",
    "model.add(keras.layers.Dense(1, activation=\"sigmoid\"))\n",
    "\n",
    "\n",
    "model.compile(loss=\"binary_crossentropy\",\n",
    "              optimizer=keras.optimizers.Adam(learning_rate=1e-3),#[TO COMPLETE] learning rate\n",
    "\n",
    "              metrics=[\"accuracy\"])\n",
    "\n",
    "#Let's define a log dir in order to save the checkpoint file\n",
    "logdir = os.path.join(os.curdir, \"my_logs\", \"run_{}\".format(time.time()))\n",
    "\n",
    "#In Keras the Eraly stopping is manage by using the callbacks argument.\n",
    "callbacks = [\n",
    "    keras.callbacks.TensorBoard(logdir),\n",
    "    keras.callbacks.EarlyStopping(patience=2),#[TO COMPLETE] play with patience and find the value that prevents the model from overfitting.\n",
    "    # best is 3: stops at 4\n",
    "\n",
    "    #Saving the checkpoints file allows to load the \"best\" model when the Early \n",
    "    #stopping detect that the generalization error degrade (after 'patience' epochs)\n",
    "    keras.callbacks.ModelCheckpoint(\"my_mnist_model.h5\", save_best_only=True),\n",
    "]\n",
    "\n",
    "history = model.fit(X_train, y_train, epochs=20,#[TO COMPLETE] epochs\n",
    "                    validation_data=(X_valid, y_valid),\n",
    "                    callbacks=callbacks)\n",
    "\n",
    "print(\"Model Evaluation\")\n",
    "#The early stopping stopped training after few epochs without progress, so your\n",
    "#model may already have started to overfit the training set. Since the \n",
    "#ModelCheckpoint callback only saved the best models (on the validation set) the\n",
    "#last saved model is the best on the validation set.\n",
    "model = keras.models.load_model(\"my_mnist_model.h5\")\n",
    "model.evaluate(X_test, y_test)\n",
    "plot_learning_curves(history)"
   ]
  },
  {
   "cell_type": "markdown",
   "metadata": {
    "id": "DCV8pwVzl9GK"
   },
   "source": [
    "## Exercise 2.3: Model Selection\n",
    "\n",
    "Hyperparameters are the parameters of the learning method itself which we have to specify a priori, i.e., before model fitting. In contrast, model parameters are parameters which arise as a result of the fit (the network weights). The aim of model selection is selecting the best hyperparameters for our deep network. Finding the right hyperparameters for a model can be crucial for the model performance on given data. For istance lets consider our model trained by using different values for the learning rate: "
   ]
  },
  {
   "cell_type": "code",
   "execution_count": 23,
   "metadata": {
    "id": "Fw8Hs-AEmLKh"
   },
   "outputs": [],
   "source": [
    "learning_rates = [1e-4, 1e-2, 1e-1]"
   ]
  },
  {
   "cell_type": "code",
   "execution_count": 31,
   "metadata": {
    "id": "mym4GOgUmWqD"
   },
   "outputs": [
    {
     "name": "stdout",
     "output_type": "stream",
     "text": [
      "Epoch 1/10\n",
      "782/782 [==============================] - 2s 2ms/step - loss: 0.6650 - accuracy: 0.5952 - val_loss: 0.4989 - val_accuracy: 0.7948\n",
      "Epoch 2/10\n",
      "782/782 [==============================] - 2s 2ms/step - loss: 0.4499 - accuracy: 0.8127 - val_loss: 0.3786 - val_accuracy: 0.8396\n",
      "Epoch 3/10\n",
      "782/782 [==============================] - 2s 2ms/step - loss: 0.3487 - accuracy: 0.8553 - val_loss: 0.3525 - val_accuracy: 0.8499\n",
      "Epoch 4/10\n",
      "782/782 [==============================] - 2s 2ms/step - loss: 0.3257 - accuracy: 0.8629 - val_loss: 0.3403 - val_accuracy: 0.8560\n",
      "Epoch 5/10\n",
      "782/782 [==============================] - 2s 2ms/step - loss: 0.3117 - accuracy: 0.8715 - val_loss: 0.3374 - val_accuracy: 0.8574\n",
      "Epoch 6/10\n",
      "782/782 [==============================] - 3s 3ms/step - loss: 0.3024 - accuracy: 0.8747 - val_loss: 0.3350 - val_accuracy: 0.8573\n",
      "Epoch 7/10\n",
      "782/782 [==============================] - 2s 3ms/step - loss: 0.2952 - accuracy: 0.8778 - val_loss: 0.3351 - val_accuracy: 0.8559\n",
      "Epoch 8/10\n",
      "782/782 [==============================] - 2s 2ms/step - loss: 0.2999 - accuracy: 0.8741 - val_loss: 0.3356 - val_accuracy: 0.8558\n",
      "evaluation on test set\n",
      "391/391 - 1s - loss: 0.3163 - accuracy: 0.8663\n",
      "Epoch 1/10\n",
      "782/782 [==============================] - 2s 2ms/step - loss: 0.4119 - accuracy: 0.8120 - val_loss: 0.3371 - val_accuracy: 0.8487\n",
      "Epoch 2/10\n",
      "782/782 [==============================] - 2s 2ms/step - loss: 0.3175 - accuracy: 0.8605 - val_loss: 0.3376 - val_accuracy: 0.8530\n",
      "Epoch 3/10\n",
      "782/782 [==============================] - 2s 2ms/step - loss: 0.2827 - accuracy: 0.8813 - val_loss: 0.3430 - val_accuracy: 0.8508\n",
      "evaluation on test set\n",
      "391/391 - 0s - loss: 0.3225 - accuracy: 0.8600\n",
      "Epoch 1/10\n",
      "782/782 [==============================] - 2s 2ms/step - loss: 0.5047 - accuracy: 0.7574 - val_loss: 0.3712 - val_accuracy: 0.8446\n",
      "Epoch 2/10\n",
      "782/782 [==============================] - 2s 2ms/step - loss: 0.3684 - accuracy: 0.8359 - val_loss: 0.3688 - val_accuracy: 0.8364\n",
      "Epoch 3/10\n",
      "782/782 [==============================] - 2s 2ms/step - loss: 0.3760 - accuracy: 0.8505 - val_loss: 0.3581 - val_accuracy: 0.8408\n",
      "Epoch 4/10\n",
      "782/782 [==============================] - 2s 3ms/step - loss: 0.3502 - accuracy: 0.8429 - val_loss: 0.3838 - val_accuracy: 0.8374\n",
      "Epoch 5/10\n",
      "782/782 [==============================] - 2s 2ms/step - loss: 0.3493 - accuracy: 0.8454 - val_loss: 0.3804 - val_accuracy: 0.8348\n",
      "evaluation on test set\n",
      "391/391 - 0s - loss: 0.3728 - accuracy: 0.8432\n"
     ]
    }
   ],
   "source": [
    "histories = []\n",
    "for learning_rate in learning_rates:\n",
    "    model = keras.models.Sequential([\n",
    "                                    tf.keras.Input(shape=(num_words,)),\n",
    "                                    keras.layers.Dense(16, activation=\"relu\"),\n",
    "                                    keras.layers.Dense(16, activation=\"relu\"),\n",
    "                                    keras.layers.Dense(1, activation=\"sigmoid\")\n",
    "                                     ])\n",
    "    model.compile(loss=\"binary_crossentropy\",\n",
    "              optimizer=keras.optimizers.Adam(learning_rate=learning_rate),\n",
    "              metrics=[\"accuracy\"])\n",
    "              \n",
    "    callbacks = [keras.callbacks.EarlyStopping(patience=2)]\n",
    "\n",
    "    history = model.fit(X_train, y_train,\n",
    "                        validation_data=(X_valid, y_valid), epochs=10,\n",
    "                        callbacks=callbacks)\n",
    "    histories.append(history)\n",
    "    print(\"evaluation on test set\")\n",
    "    model.evaluate(X_test, y_test, verbose = 2)"
   ]
  },
  {
   "cell_type": "markdown",
   "metadata": {
    "id": "RzTSjfwptkHJ"
   },
   "source": [
    "Let's plot the results"
   ]
  },
  {
   "cell_type": "code",
   "execution_count": 25,
   "metadata": {
    "id": "cIlN1vlioIYh"
   },
   "outputs": [
    {
     "name": "stdout",
     "output_type": "stream",
     "text": [
      "Learning rate: 0.0001\n"
     ]
    },
    {
     "data": {
      "image/png": "[encoded data removed]",
      "text/plain": [
       "<Figure size 576x360 with 1 Axes>"
      ]
     },
     "metadata": {
      "needs_background": "light"
     },
     "output_type": "display_data"
    },
    {
     "name": "stdout",
     "output_type": "stream",
     "text": [
      "Learning rate: 0.01\n"
     ]
    },
    {
     "data": {
      "image/png": "[encoded data removed]",
      "text/plain": [
       "<Figure size 576x360 with 1 Axes>"
      ]
     },
     "metadata": {
      "needs_background": "light"
     },
     "output_type": "display_data"
    },
    {
     "name": "stdout",
     "output_type": "stream",
     "text": [
      "Learning rate: 0.1\n"
     ]
    },
    {
     "data": {
      "image/png": "[encoded data removed]",
      "text/plain": [
       "<Figure size 576x360 with 1 Axes>"
      ]
     },
     "metadata": {
      "needs_background": "light"
     },
     "output_type": "display_data"
    }
   ],
   "source": [
    "for learning_rate, history in zip(learning_rates, histories):\n",
    "    print(\"Learning rate:\", learning_rate)\n",
    "    plot_learning_acc_and_loss(history)"
   ]
  },
  {
   "cell_type": "markdown",
   "metadata": {
    "id": "_JntujSWq3e5"
   },
   "source": [
    "### [TO COMPLETE] GRID Search:\n",
    "\n",
    "Since a deep net has many hyperparameters, in order to find the best ones, we have to consider all the possible combinations of all of the possible values. One common method to perform this complex task is Grid-Search.\n",
    "Given a set of values for each hyper-parameter, Grid-Search will build a model on each parameter combination possible. It iterates through every parameter combination and stores a model for each combination. Finally, the model that obtained the best result on the validation set will be select.\n",
    "\n",
    "In order to perfrom Grid-Search we will use the GridSearchCV method from scikit-learn."
   ]
  },
  {
   "cell_type": "markdown",
   "metadata": {
    "id": "CPz629YSrDhN"
   },
   "source": [
    "Let's Create a build_model() function that takes two arguments, n_neurons, learning_rate, and builds, compiles and returns a model with the given number of of neurons and the given learning rate.\n",
    "In order to limit the time requirements of the process we will consider only these two hyper-paramters.\n",
    "\n",
    "[TO COMPLETE] in the following code cell define the build_model function."
   ]
  },
  {
   "cell_type": "code",
   "execution_count": 26,
   "metadata": {
    "id": "oGSKWTTtqxZ4"
   },
   "outputs": [],
   "source": [
    "def build_model(n_units=30, learning_rate=1e-3):\n",
    "    # The function has to build a model similar to the ones we used in previuous execises:\n",
    "    #- a input layer \n",
    "    #- one or two Dense layers composed of n_units and that exploit Relu activation function \n",
    "    #- the output layer that uses the sigmoid activation function\n",
    "    # Then, the model has to be compiled.\n",
    "    model = keras.models.Sequential([\n",
    "                                tf.keras.Input(shape=(num_words,)),\n",
    "                                keras.layers.Dense(n_units, activation=\"relu\"),\n",
    "                                keras.layers.Dense(n_units, activation=\"relu\"),\n",
    "                                keras.layers.Dense(1, activation=\"sigmoid\")\n",
    "                                ])\n",
    "        \n",
    "    # [TO COMPLETE] Then, the model has to be compiled.\n",
    "    model.compile(loss=\"binary_crossentropy\",\n",
    "              optimizer=keras.optimizers.Adam(learning_rate=learning_rate),\n",
    "              metrics=[\"accuracy\"])\n",
    "    \n",
    "    return model\n",
    "\n",
    "    \n",
    "#Create a keras.wrappers.scikit_learn.KerasRegressor and pass the build_model \n",
    "#function to the constructor. This gives you a Scikit-Learn compatible predictor\n",
    "keras_reg = keras.wrappers.scikit_learn.KerasRegressor(build_model)"
   ]
  },
  {
   "cell_type": "markdown",
   "metadata": {
    "id": "PS6W3A2LxDg5"
   },
   "source": [
    "Let's define the lists of hyper-parameters' values. Also in this case, we use a very limited size lists, but in a real-world scenario a reasonable amount of possible values should be considered (try to add some values and check how much the time required to perform the Grid-Search increases)"
   ]
  },
  {
   "cell_type": "code",
   "execution_count": 27,
   "metadata": {
    "id": "y-uldCW3ru24"
   },
   "outputs": [],
   "source": [
    "param_distribs = {\n",
    "    \"n_units\": [8,16],# [TO COMPLETE] insert a list that contains few (2 or 3) reasonable value\n",
    "    \"learning_rate\": [1e-4, 1e-3] #[TO COMPLETE] insert a list that contains few (2 or 3) reasonable values\n",
    "    #Check how the time required to perform GRID search increases when increasing the number of values for each hyper-parameter.\n",
    "}"
   ]
  },
  {
   "cell_type": "markdown",
   "metadata": {
    "id": "bEiBxVYtx_sK"
   },
   "source": [
    "Use a sklearn.model_selection.GridSearchCV to search the hyperparameter space of your KerasRegressor"
   ]
  },
  {
   "cell_type": "code",
   "execution_count": 28,
   "metadata": {
    "id": "iobF2Bvdr9ER"
   },
   "outputs": [],
   "source": [
    "from sklearn.model_selection import GridSearchCV\n",
    "\n",
    "grid_search = GridSearchCV(keras_reg, param_distribs)"
   ]
  },
  {
   "cell_type": "markdown",
   "metadata": {
    "id": "LVGMcZz_yKSX"
   },
   "source": [
    "Run the Grid-Search"
   ]
  },
  {
   "cell_type": "code",
   "execution_count": 29,
   "metadata": {
    "id": "-BA3vgTjr-hw"
   },
   "outputs": [
    {
     "name": "stdout",
     "output_type": "stream",
     "text": [
      "Epoch 1/5\n",
      "625/625 - 2s - loss: 0.6729 - accuracy: 0.5410 - val_loss: 0.6370 - val_accuracy: 0.6042\n",
      "Epoch 2/5\n",
      "625/625 - 2s - loss: 0.6039 - accuracy: 0.6682 - val_loss: 0.5784 - val_accuracy: 0.7298\n",
      "Epoch 3/5\n",
      "625/625 - 2s - loss: 0.5484 - accuracy: 0.7645 - val_loss: 0.5293 - val_accuracy: 0.7943\n",
      "Epoch 4/5\n",
      "625/625 - 2s - loss: 0.4961 - accuracy: 0.8232 - val_loss: 0.4770 - val_accuracy: 0.8291\n",
      "Epoch 5/5\n",
      "625/625 - 2s - loss: 0.4350 - accuracy: 0.8515 - val_loss: 0.4135 - val_accuracy: 0.8422\n",
      "157/157 [==============================] - 0s 2ms/step - loss: 0.4130 - accuracy: 0.8448\n",
      "Epoch 1/5\n",
      "625/625 - 2s - loss: 0.6848 - accuracy: 0.5378 - val_loss: 0.6697 - val_accuracy: 0.5830\n",
      "Epoch 2/5\n",
      "625/625 - 2s - loss: 0.6378 - accuracy: 0.6388 - val_loss: 0.6096 - val_accuracy: 0.6960\n",
      "Epoch 3/5\n",
      "625/625 - 1s - loss: 0.5666 - accuracy: 0.7543 - val_loss: 0.5302 - val_accuracy: 0.7957\n",
      "Epoch 4/5\n",
      "625/625 - 1s - loss: 0.4604 - accuracy: 0.8272 - val_loss: 0.4216 - val_accuracy: 0.8355\n",
      "Epoch 5/5\n",
      "625/625 - 1s - loss: 0.3804 - accuracy: 0.8502 - val_loss: 0.3766 - val_accuracy: 0.8481\n",
      "157/157 [==============================] - 0s 2ms/step - loss: 0.3660 - accuracy: 0.8500\n",
      "Epoch 1/5\n",
      "625/625 - 2s - loss: 0.6559 - accuracy: 0.6256 - val_loss: 0.5769 - val_accuracy: 0.7420\n",
      "Epoch 2/5\n",
      "625/625 - 1s - loss: 0.4944 - accuracy: 0.7922 - val_loss: 0.4441 - val_accuracy: 0.8141\n",
      "Epoch 3/5\n",
      "625/625 - 1s - loss: 0.3964 - accuracy: 0.8381 - val_loss: 0.3873 - val_accuracy: 0.8382\n",
      "Epoch 4/5\n",
      "625/625 - 1s - loss: 0.3532 - accuracy: 0.8532 - val_loss: 0.3623 - val_accuracy: 0.8461\n",
      "Epoch 5/5\n",
      "625/625 - 1s - loss: 0.3308 - accuracy: 0.8645 - val_loss: 0.3497 - val_accuracy: 0.8519\n",
      "157/157 [==============================] - 0s 2ms/step - loss: 0.3486 - accuracy: 0.8562\n",
      "Epoch 1/5\n",
      "625/625 - 2s - loss: 0.6468 - accuracy: 0.6266 - val_loss: 0.5720 - val_accuracy: 0.7290\n",
      "Epoch 2/5\n",
      "625/625 - 1s - loss: 0.4997 - accuracy: 0.7854 - val_loss: 0.4532 - val_accuracy: 0.8086\n",
      "Epoch 3/5\n",
      "625/625 - 1s - loss: 0.4081 - accuracy: 0.8322 - val_loss: 0.3952 - val_accuracy: 0.8350\n",
      "Epoch 4/5\n",
      "625/625 - 2s - loss: 0.3627 - accuracy: 0.8522 - val_loss: 0.3666 - val_accuracy: 0.8470\n",
      "Epoch 5/5\n",
      "625/625 - 1s - loss: 0.3379 - accuracy: 0.8615 - val_loss: 0.3522 - val_accuracy: 0.8530\n",
      "157/157 [==============================] - 0s 2ms/step - loss: 0.3452 - accuracy: 0.8570\n",
      "Epoch 1/5\n",
      "625/625 - 2s - loss: 0.6538 - accuracy: 0.6326 - val_loss: 0.5897 - val_accuracy: 0.7417\n",
      "Epoch 2/5\n",
      "625/625 - 1s - loss: 0.5203 - accuracy: 0.7923 - val_loss: 0.4756 - val_accuracy: 0.8123\n",
      "Epoch 3/5\n",
      "625/625 - 1s - loss: 0.4153 - accuracy: 0.8360 - val_loss: 0.3950 - val_accuracy: 0.8355\n",
      "Epoch 4/5\n",
      "625/625 - 1s - loss: 0.3605 - accuracy: 0.8530 - val_loss: 0.3675 - val_accuracy: 0.8461\n",
      "Epoch 5/5\n",
      "625/625 - 1s - loss: 0.3377 - accuracy: 0.8614 - val_loss: 0.3539 - val_accuracy: 0.8502\n",
      "157/157 [==============================] - 0s 1ms/step - loss: 0.3457 - accuracy: 0.8534\n",
      "Epoch 1/5\n",
      "625/625 - 1s - loss: 0.6292 - accuracy: 0.6517 - val_loss: 0.5306 - val_accuracy: 0.7665\n",
      "Epoch 2/5\n",
      "625/625 - 1s - loss: 0.4460 - accuracy: 0.8171 - val_loss: 0.4041 - val_accuracy: 0.8339\n",
      "Epoch 3/5\n",
      "625/625 - 1s - loss: 0.3632 - accuracy: 0.8510 - val_loss: 0.3622 - val_accuracy: 0.8482\n",
      "Epoch 4/5\n",
      "625/625 - 1s - loss: 0.3307 - accuracy: 0.8640 - val_loss: 0.3476 - val_accuracy: 0.8519\n",
      "Epoch 5/5\n",
      "625/625 - 1s - loss: 0.3147 - accuracy: 0.8709 - val_loss: 0.3417 - val_accuracy: 0.8537\n",
      "157/157 [==============================] - 0s 1ms/step - loss: 0.3372 - accuracy: 0.8590\n",
      "Epoch 1/5\n",
      "625/625 - 1s - loss: 0.6454 - accuracy: 0.6308 - val_loss: 0.5634 - val_accuracy: 0.7587\n",
      "Epoch 2/5\n",
      "625/625 - 1s - loss: 0.4701 - accuracy: 0.8112 - val_loss: 0.4154 - val_accuracy: 0.8292\n",
      "Epoch 3/5\n",
      "625/625 - 1s - loss: 0.3720 - accuracy: 0.8476 - val_loss: 0.3681 - val_accuracy: 0.8458\n",
      "Epoch 4/5\n",
      "625/625 - 1s - loss: 0.3373 - accuracy: 0.8609 - val_loss: 0.3501 - val_accuracy: 0.8524\n",
      "Epoch 5/5\n",
      "625/625 - 1s - loss: 0.3208 - accuracy: 0.8671 - val_loss: 0.3423 - val_accuracy: 0.8534\n",
      "157/157 [==============================] - 0s 1ms/step - loss: 0.3328 - accuracy: 0.8560\n",
      "Epoch 1/5\n",
      "625/625 - 1s - loss: 0.6212 - accuracy: 0.6751 - val_loss: 0.5193 - val_accuracy: 0.7814\n",
      "Epoch 2/5\n",
      "625/625 - 1s - loss: 0.4384 - accuracy: 0.8231 - val_loss: 0.4018 - val_accuracy: 0.8316\n",
      "Epoch 3/5\n",
      "625/625 - 1s - loss: 0.3600 - accuracy: 0.8516 - val_loss: 0.3629 - val_accuracy: 0.8450\n",
      "Epoch 4/5\n",
      "625/625 - 1s - loss: 0.3290 - accuracy: 0.8630 - val_loss: 0.3473 - val_accuracy: 0.8534\n",
      "Epoch 5/5\n",
      "625/625 - 1s - loss: 0.3136 - accuracy: 0.8702 - val_loss: 0.3407 - val_accuracy: 0.8554\n",
      "157/157 [==============================] - 0s 1ms/step - loss: 0.3442 - accuracy: 0.8516\n",
      "Epoch 1/5\n",
      "625/625 - 1s - loss: 0.6331 - accuracy: 0.6580 - val_loss: 0.5261 - val_accuracy: 0.7779\n",
      "Epoch 2/5\n",
      "625/625 - 1s - loss: 0.4346 - accuracy: 0.8220 - val_loss: 0.4012 - val_accuracy: 0.8293\n",
      "Epoch 3/5\n",
      "625/625 - 1s - loss: 0.3596 - accuracy: 0.8535 - val_loss: 0.3635 - val_accuracy: 0.8472\n",
      "Epoch 4/5\n",
      "625/625 - 1s - loss: 0.3311 - accuracy: 0.8630 - val_loss: 0.3488 - val_accuracy: 0.8532\n",
      "Epoch 5/5\n",
      "625/625 - 1s - loss: 0.3156 - accuracy: 0.8691 - val_loss: 0.3423 - val_accuracy: 0.8527\n",
      "157/157 [==============================] - 0s 1ms/step - loss: 0.3392 - accuracy: 0.8610\n",
      "Epoch 1/5\n",
      "625/625 - 2s - loss: 0.6524 - accuracy: 0.6194 - val_loss: 0.5544 - val_accuracy: 0.7580\n",
      "Epoch 2/5\n",
      "625/625 - 1s - loss: 0.4537 - accuracy: 0.8110 - val_loss: 0.4056 - val_accuracy: 0.8295\n",
      "Epoch 3/5\n",
      "625/625 - 1s - loss: 0.3640 - accuracy: 0.8487 - val_loss: 0.3641 - val_accuracy: 0.8463\n",
      "Epoch 4/5\n",
      "625/625 - 1s - loss: 0.3326 - accuracy: 0.8607 - val_loss: 0.3489 - val_accuracy: 0.8518\n",
      "Epoch 5/5\n",
      "625/625 - 1s - loss: 0.3177 - accuracy: 0.8672 - val_loss: 0.3429 - val_accuracy: 0.8542\n",
      "157/157 [==============================] - 0s 1ms/step - loss: 0.3337 - accuracy: 0.8580\n",
      "Epoch 1/5\n",
      "625/625 - 1s - loss: 0.4371 - accuracy: 0.7980 - val_loss: 0.3412 - val_accuracy: 0.8539\n",
      "Epoch 2/5\n",
      "625/625 - 1s - loss: 0.3205 - accuracy: 0.8680 - val_loss: 0.3402 - val_accuracy: 0.8522\n",
      "Epoch 3/5\n",
      "625/625 - 1s - loss: 0.3095 - accuracy: 0.8704 - val_loss: 0.3441 - val_accuracy: 0.8524\n",
      "Epoch 4/5\n",
      "625/625 - 1s - loss: 0.3018 - accuracy: 0.8740 - val_loss: 0.3424 - val_accuracy: 0.8518\n",
      "Epoch 5/5\n",
      "625/625 - 1s - loss: 0.2962 - accuracy: 0.8767 - val_loss: 0.3583 - val_accuracy: 0.8444\n",
      "157/157 [==============================] - 0s 1ms/step - loss: 0.3540 - accuracy: 0.8496\n",
      "Epoch 1/5\n",
      "625/625 - 1s - loss: 0.4162 - accuracy: 0.8173 - val_loss: 0.3388 - val_accuracy: 0.8569\n",
      "Epoch 2/5\n",
      "625/625 - 1s - loss: 0.3233 - accuracy: 0.8668 - val_loss: 0.3381 - val_accuracy: 0.8558\n",
      "Epoch 3/5\n",
      "625/625 - 1s - loss: 0.3139 - accuracy: 0.8699 - val_loss: 0.3490 - val_accuracy: 0.8486\n",
      "Epoch 4/5\n",
      "625/625 - 1s - loss: 0.3082 - accuracy: 0.8713 - val_loss: 0.3399 - val_accuracy: 0.8523\n",
      "Epoch 5/5\n",
      "625/625 - 1s - loss: 0.3009 - accuracy: 0.8740 - val_loss: 0.3440 - val_accuracy: 0.8502\n",
      "157/157 [==============================] - 0s 1ms/step - loss: 0.3345 - accuracy: 0.8556\n",
      "Epoch 1/5\n",
      "625/625 - 1s - loss: 0.4329 - accuracy: 0.7912 - val_loss: 0.3395 - val_accuracy: 0.8562\n",
      "Epoch 2/5\n",
      "625/625 - 1s - loss: 0.3197 - accuracy: 0.8684 - val_loss: 0.3388 - val_accuracy: 0.8552\n",
      "Epoch 3/5\n",
      "625/625 - 1s - loss: 0.3083 - accuracy: 0.8699 - val_loss: 0.3443 - val_accuracy: 0.8508\n",
      "Epoch 4/5\n",
      "625/625 - 1s - loss: 0.2946 - accuracy: 0.8780 - val_loss: 0.3442 - val_accuracy: 0.8494\n",
      "Epoch 5/5\n",
      "625/625 - 1s - loss: 0.2793 - accuracy: 0.8829 - val_loss: 0.3443 - val_accuracy: 0.8502\n",
      "157/157 [==============================] - 0s 1ms/step - loss: 0.3432 - accuracy: 0.8532\n",
      "Epoch 1/5\n",
      "625/625 - 1s - loss: 0.4296 - accuracy: 0.8047 - val_loss: 0.3454 - val_accuracy: 0.8532\n",
      "Epoch 2/5\n",
      "625/625 - 1s - loss: 0.3209 - accuracy: 0.8662 - val_loss: 0.3393 - val_accuracy: 0.8544\n",
      "Epoch 3/5\n",
      "625/625 - 1s - loss: 0.3108 - accuracy: 0.8700 - val_loss: 0.3466 - val_accuracy: 0.8513\n",
      "Epoch 4/5\n",
      "625/625 - 1s - loss: 0.3056 - accuracy: 0.8726 - val_loss: 0.3434 - val_accuracy: 0.8517\n",
      "Epoch 5/5\n",
      "625/625 - 1s - loss: 0.2984 - accuracy: 0.8740 - val_loss: 0.3470 - val_accuracy: 0.8475\n",
      "157/157 [==============================] - 0s 1ms/step - loss: 0.3383 - accuracy: 0.8560\n",
      "Epoch 1/5\n",
      "625/625 - 2s - loss: 0.4125 - accuracy: 0.8138 - val_loss: 0.3453 - val_accuracy: 0.8524\n"
     ]
    },
    {
     "name": "stdout",
     "output_type": "stream",
     "text": [
      "Epoch 2/5\n",
      "625/625 - 1s - loss: 0.3215 - accuracy: 0.8644 - val_loss: 0.3429 - val_accuracy: 0.8530\n",
      "Epoch 3/5\n",
      "625/625 - 1s - loss: 0.3117 - accuracy: 0.8691 - val_loss: 0.3505 - val_accuracy: 0.8491\n",
      "Epoch 4/5\n",
      "625/625 - 1s - loss: 0.3043 - accuracy: 0.8747 - val_loss: 0.3457 - val_accuracy: 0.8509\n",
      "Epoch 5/5\n",
      "625/625 - 1s - loss: 0.2967 - accuracy: 0.8763 - val_loss: 0.3449 - val_accuracy: 0.8512\n",
      "157/157 [==============================] - 0s 1ms/step - loss: 0.3346 - accuracy: 0.8602\n",
      "Epoch 1/5\n",
      "625/625 - 1s - loss: 0.4024 - accuracy: 0.8169 - val_loss: 0.3409 - val_accuracy: 0.8544\n",
      "Epoch 2/5\n",
      "625/625 - 1s - loss: 0.3175 - accuracy: 0.8678 - val_loss: 0.3419 - val_accuracy: 0.8509\n",
      "Epoch 3/5\n",
      "625/625 - 1s - loss: 0.2990 - accuracy: 0.8720 - val_loss: 0.3447 - val_accuracy: 0.8501\n",
      "Epoch 4/5\n",
      "625/625 - 1s - loss: 0.2784 - accuracy: 0.8819 - val_loss: 0.3444 - val_accuracy: 0.8514\n",
      "Epoch 5/5\n",
      "625/625 - 1s - loss: 0.2575 - accuracy: 0.8930 - val_loss: 0.3708 - val_accuracy: 0.8408\n",
      "157/157 [==============================] - 0s 1ms/step - loss: 0.3673 - accuracy: 0.8470\n",
      "Epoch 1/5\n",
      "625/625 - 1s - loss: 0.4113 - accuracy: 0.8116 - val_loss: 0.3376 - val_accuracy: 0.8552\n",
      "Epoch 2/5\n",
      "625/625 - 1s - loss: 0.3174 - accuracy: 0.8687 - val_loss: 0.3350 - val_accuracy: 0.8543\n",
      "Epoch 3/5\n",
      "625/625 - 1s - loss: 0.2977 - accuracy: 0.8752 - val_loss: 0.3427 - val_accuracy: 0.8474\n",
      "Epoch 4/5\n",
      "625/625 - 1s - loss: 0.2778 - accuracy: 0.8821 - val_loss: 0.3430 - val_accuracy: 0.8506\n",
      "Epoch 5/5\n",
      "625/625 - 1s - loss: 0.2534 - accuracy: 0.8928 - val_loss: 0.3553 - val_accuracy: 0.8466\n",
      "157/157 [==============================] - 0s 1ms/step - loss: 0.3394 - accuracy: 0.8512\n",
      "Epoch 1/5\n",
      "625/625 - 1s - loss: 0.4012 - accuracy: 0.8160 - val_loss: 0.3413 - val_accuracy: 0.8503\n",
      "Epoch 2/5\n",
      "625/625 - 1s - loss: 0.3186 - accuracy: 0.8662 - val_loss: 0.3371 - val_accuracy: 0.8533\n",
      "Epoch 3/5\n",
      "625/625 - 1s - loss: 0.3003 - accuracy: 0.8718 - val_loss: 0.3424 - val_accuracy: 0.8491\n",
      "Epoch 4/5\n",
      "625/625 - 1s - loss: 0.2801 - accuracy: 0.8825 - val_loss: 0.3395 - val_accuracy: 0.8498\n",
      "Epoch 5/5\n",
      "625/625 - 1s - loss: 0.2542 - accuracy: 0.8935 - val_loss: 0.3555 - val_accuracy: 0.8476\n",
      "157/157 [==============================] - 0s 1ms/step - loss: 0.3564 - accuracy: 0.8456\n",
      "Epoch 1/5\n",
      "625/625 - 1s - loss: 0.3970 - accuracy: 0.8240 - val_loss: 0.3523 - val_accuracy: 0.8467\n",
      "Epoch 2/5\n",
      "625/625 - 1s - loss: 0.3209 - accuracy: 0.8659 - val_loss: 0.3353 - val_accuracy: 0.8552\n",
      "Epoch 3/5\n",
      "625/625 - 1s - loss: 0.3050 - accuracy: 0.8697 - val_loss: 0.3436 - val_accuracy: 0.8491\n",
      "Epoch 4/5\n",
      "625/625 - 1s - loss: 0.2928 - accuracy: 0.8748 - val_loss: 0.3368 - val_accuracy: 0.8531\n",
      "Epoch 5/5\n",
      "625/625 - 1s - loss: 0.2772 - accuracy: 0.8792 - val_loss: 0.3433 - val_accuracy: 0.8527\n",
      "157/157 [==============================] - 0s 1ms/step - loss: 0.3410 - accuracy: 0.8540\n",
      "Epoch 1/5\n",
      "625/625 - 1s - loss: 0.3987 - accuracy: 0.8190 - val_loss: 0.3496 - val_accuracy: 0.8510\n",
      "Epoch 2/5\n",
      "625/625 - 1s - loss: 0.3196 - accuracy: 0.8646 - val_loss: 0.3395 - val_accuracy: 0.8533\n",
      "Epoch 3/5\n",
      "625/625 - 1s - loss: 0.3033 - accuracy: 0.8710 - val_loss: 0.3495 - val_accuracy: 0.8454\n",
      "Epoch 4/5\n",
      "625/625 - 1s - loss: 0.2871 - accuracy: 0.8779 - val_loss: 0.3367 - val_accuracy: 0.8506\n",
      "Epoch 5/5\n",
      "625/625 - 1s - loss: 0.2678 - accuracy: 0.8870 - val_loss: 0.3416 - val_accuracy: 0.8509\n",
      "157/157 [==============================] - 0s 1ms/step - loss: 0.3302 - accuracy: 0.8604\n",
      "Epoch 1/5\n",
      "782/782 - 2s - loss: 0.6011 - accuracy: 0.6989 - val_loss: 0.4958 - val_accuracy: 0.7957\n",
      "Epoch 2/5\n",
      "782/782 - 1s - loss: 0.4197 - accuracy: 0.8334 - val_loss: 0.3883 - val_accuracy: 0.8391\n",
      "Epoch 3/5\n",
      "782/782 - 1s - loss: 0.3524 - accuracy: 0.8571 - val_loss: 0.3569 - val_accuracy: 0.8486\n",
      "Epoch 4/5\n",
      "782/782 - 1s - loss: 0.3261 - accuracy: 0.8675 - val_loss: 0.3429 - val_accuracy: 0.8560\n",
      "Epoch 5/5\n",
      "782/782 - 1s - loss: 0.3137 - accuracy: 0.8712 - val_loss: 0.3390 - val_accuracy: 0.8570\n"
     ]
    },
    {
     "data": {
      "text/plain": [
       "GridSearchCV(estimator=<tensorflow.python.keras.wrappers.scikit_learn.KerasRegressor object at 0x7ffbe7ace410>,\n",
       "             param_grid={'learning_rate': [0.0001, 0.001], 'n_units': [8, 16]})"
      ]
     },
     "execution_count": 29,
     "metadata": {},
     "output_type": "execute_result"
    }
   ],
   "source": [
    "\n",
    "grid_search.fit(X_train.numpy(), y_train, epochs=5,#The number of epochs can be modified (check what happens by increasing it)\n",
    "                verbose=2, validation_data=(X_valid.numpy(), y_valid))"
   ]
  },
  {
   "cell_type": "markdown",
   "metadata": {
    "id": "aadmkiOoyM94"
   },
   "source": [
    "Print the best hyper-parameters, and evealuate the best model on the test set."
   ]
  },
  {
   "cell_type": "code",
   "execution_count": 30,
   "metadata": {
    "id": "b0nL5OZkylNX"
   },
   "outputs": [
    {
     "name": "stdout",
     "output_type": "stream",
     "text": [
      "{'learning_rate': 0.0001, 'n_units': 16}\n",
      "391/391 [==============================] - 0s 1ms/step - loss: 0.3228 - accuracy: 0.8643\n"
     ]
    },
    {
     "data": {
      "text/plain": [
       "[0.3227553069591522, 0.8643199801445007]"
      ]
     },
     "execution_count": 30,
     "metadata": {},
     "output_type": "execute_result"
    }
   ],
   "source": [
    "print(grid_search.best_params_)\n",
    "\n",
    "model = grid_search.best_estimator_.model\n",
    "model.evaluate(X_test, y_test)"
   ]
  }
 ],
 "metadata": {
  "colab": {
   "collapsed_sections": [],
   "name": "HW2.ipynb",
   "provenance": [],
   "toc_visible": true
  },
  "kernelspec": {
   "display_name": "Python 3",
   "language": "python",
   "name": "python3"
  },
  "language_info": {
   "codemirror_mode": {
    "name": "ipython",
    "version": 3
   },
   "file_extension": ".py",
   "mimetype": "text/x-python",
   "name": "python",
   "nbconvert_exporter": "python",
   "pygments_lexer": "ipython3",
   "version": "3.8.5"
  }
 },
 "nbformat": 4,
 "nbformat_minor": 1
}
